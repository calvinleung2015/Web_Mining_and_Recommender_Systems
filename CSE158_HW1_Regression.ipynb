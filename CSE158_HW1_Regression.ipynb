{
 "cells": [
  {
   "cell_type": "code",
   "execution_count": 1,
   "metadata": {},
   "outputs": [],
   "source": [
    "from sklearn.model_selection import train_test_split\n",
    "from sklearn.metrics import mean_squared_error\n",
    "import numpy as np\n",
    "import matplotlib.pyplot as plt\n",
    "import urllib\n",
    "import scipy.optimize\n",
    "import random\n",
    "import ast\n",
    "import json"
   ]
  },
  {
   "cell_type": "code",
   "execution_count": 2,
   "metadata": {},
   "outputs": [
    {
     "data": {
      "text/plain": [
       "{'user_id': '8842281e1d1347389f2ab93d60773d4d',\n",
       " 'book_id': '5577844',\n",
       " 'review_id': '52c8ac49496c153e4a97161e36b2db55',\n",
       " 'rating': 5,\n",
       " 'review_text': 'A beautiful story. Neil Gaiman is truly a unique storyteller. I did a combo of reading and listening to this story, and Neil is great at reading as well. I got interested in this book after seeing the movie, which I really enjoyed. The book is similar - maybe a bit more poetic - but I think the plot in the movie is a bit improved (not much, but a bit). \\n I imagine this book came about because Neil read the below poem that he includes in the beginning, and then he invented a plot around it. The result is the book reads like a epic poem - it\\'s creative, magical, and really, just right. \\n Go and catch a falling star, \\n Get with child a mandrake root, \\n Tell me where all past years are, \\n Or who cleft the devil\\'s foot, \\n Teach me to hear mermaids singing, \\n Or to keep off envy\\'s stinging, \\n And find \\n What wind \\n Serves to advance an honest mind. \\n If thou be\\'st born to strange sights, \\n Things invisible to see, \\n Ride ten thousand days and nights, \\n Till age snow white hairs on thee, \\n Thou, when thou return\\'st, wilt tell me, \\n All strange wonders that befell thee, \\n And swear, \\n No where \\n Lives a woman true, and fair. \\n If thou find\\'st one, let me know, \\n Such a pilgrimage were sweet; \\n Yet do not, I would not go, \\n Though at next door we might meet; \\n Though she were true, when you met her, \\n And last, till you write your letter, \\n Yet she \\n Will be \\n False, ere I come, to two, or three. \\n And here is my new favorite quote: \"Have been unavoidably detained by the world. Expect us when you see us.\"',\n",
       " 'date_added': 'Wed Sep 24 09:29:29 -0700 2014',\n",
       " 'date_updated': 'Wed Oct 01 00:31:56 -0700 2014',\n",
       " 'read_at': 'Tue Sep 30 00:00:00 -0700 2014',\n",
       " 'started_at': 'Sun Sep 21 00:00:00 -0700 2014',\n",
       " 'n_votes': 5,\n",
       " 'n_comments': 1}"
      ]
     },
     "execution_count": 2,
     "metadata": {},
     "output_type": "execute_result"
    }
   ],
   "source": [
    "def parseDataFromFile(fname):\n",
    "    for l in open(fname):\n",
    "        yield eval(l)\n",
    "data = list(parseDataFromFile('fantasy_10000.json'))\n",
    "data[1]"
   ]
  },
  {
   "cell_type": "code",
   "execution_count": 3,
   "metadata": {},
   "outputs": [],
   "source": [
    "#loop a length of every rating from the data set into a rate list\n",
    "rate = [d['rating'] for d in data]"
   ]
  },
  {
   "cell_type": "code",
   "execution_count": 4,
   "metadata": {},
   "outputs": [],
   "source": [
    "#loop a length of every review_text from the data set into a review_length list\n",
    "review_length = [len(d['review_text']) for d in data] "
   ]
  },
  {
   "cell_type": "code",
   "execution_count": 5,
   "metadata": {},
   "outputs": [
    {
     "data": {
      "text/plain": [
       "<matplotlib.collections.PathCollection at 0x7fb7615a7760>"
      ]
     },
     "execution_count": 5,
     "metadata": {},
     "output_type": "execute_result"
    },
    {
     "data": {
      "image/png": "[encoded data removed]",
      "text/plain": [
       "<Figure size 432x288 with 1 Axes>"
      ]
     },
     "metadata": {
      "needs_background": "light"
     },
     "output_type": "display_data"
    }
   ],
   "source": [
    "plt.xlabel('ratings')\n",
    "plt.ylabel('review lengths')\n",
    "plt.scatter(rate, review_length)"
   ]
  },
  {
   "cell_type": "markdown",
   "metadata": {},
   "source": [
    "2) Train a simple predictor that estimates rating from review length"
   ]
  },
  {
   "cell_type": "code",
   "execution_count": 6,
   "metadata": {},
   "outputs": [],
   "source": [
    "def regression_model(x, y):\n",
    "    #Mean X and Y\n",
    "    mean_X = np.mean(x)\n",
    "    mean_Y = np.mean(y)\n",
    "    \n",
    "    #Total number of values\n",
    "    n = len(x)\n",
    "    numer = 0\n",
    "    denom = 0\n",
    "    for i in range(n):\n",
    "        numer += (x[i] - mean_X) * (y[i] - mean_Y)\n",
    "        denom += (x[i] - mean_X) ** 2\n",
    "        m = numer / denom\n",
    "        c = mean_Y - (m * mean_X)\n",
    "    return m, c"
   ]
  },
  {
   "cell_type": "code",
   "execution_count": 7,
   "metadata": {},
   "outputs": [
    {
     "data": {
      "text/plain": [
       "(6.873716748962727e-05, 3.685681355016952)"
      ]
     },
     "execution_count": 7,
     "metadata": {},
     "output_type": "execute_result"
    }
   ],
   "source": [
    "regression_model(review_length, rate)"
   ]
  },
  {
   "cell_type": "code",
   "execution_count": 8,
   "metadata": {},
   "outputs": [],
   "source": [
    "def feature(datum):\n",
    "    feat = [[1, d] for d in datum]\n",
    "    return feat"
   ]
  },
  {
   "cell_type": "code",
   "execution_count": 9,
   "metadata": {},
   "outputs": [],
   "source": [
    "feat = feature(review_length)"
   ]
  },
  {
   "cell_type": "code",
   "execution_count": 10,
   "metadata": {},
   "outputs": [],
   "source": [
    "theta,residuals,rank,s = np.linalg.lstsq(feat, rate, rcond=None)"
   ]
  },
  {
   "cell_type": "code",
   "execution_count": 11,
   "metadata": {},
   "outputs": [
    {
     "data": {
      "text/plain": [
       "array([3.68568136e+00, 6.87371675e-05])"
      ]
     },
     "execution_count": 11,
     "metadata": {},
     "output_type": "execute_result"
    }
   ],
   "source": [
    "theta"
   ]
  },
  {
   "cell_type": "code",
   "execution_count": 12,
   "metadata": {},
   "outputs": [
    {
     "data": {
      "text/plain": [
       "10000"
      ]
     },
     "execution_count": 12,
     "metadata": {},
     "output_type": "execute_result"
    }
   ],
   "source": [
    "len(review_length)"
   ]
  },
  {
   "cell_type": "code",
   "execution_count": 67,
   "metadata": {},
   "outputs": [],
   "source": [
    "predict = [theta[0] + theta[1]*review_length[i] for i in range(len(review_length))] #predict all ratings"
   ]
  },
  {
   "cell_type": "code",
   "execution_count": 68,
   "metadata": {},
   "outputs": [
    {
     "data": {
      "text/plain": [
       "1.5522086622355378"
      ]
     },
     "execution_count": 68,
     "metadata": {},
     "output_type": "execute_result"
    }
   ],
   "source": [
    "mean_squared_error(rate, predict)"
   ]
  },
  {
   "cell_type": "markdown",
   "metadata": {},
   "source": [
    "$$\\theta_0 = 3.686$$ $$\\theta_1 = 6.874 \\times 10^{-5}$$ $$MSE = 1.552$$"
   ]
  },
  {
   "cell_type": "markdown",
   "metadata": {},
   "source": [
    "3. Re-train your predictor so as to include a second feature based on the number of comments"
   ]
  },
  {
   "cell_type": "code",
   "execution_count": 69,
   "metadata": {},
   "outputs": [],
   "source": [
    "def feature(datum1, datum2):\n",
    "    feat = [[1, d1] for d1 in datum1]\n",
    "    for i in range(len(datum2)):\n",
    "        feat[i].append(datum2[i])\n",
    "    return feat"
   ]
  },
  {
   "cell_type": "code",
   "execution_count": 70,
   "metadata": {},
   "outputs": [],
   "source": [
    "n_comments = [d['n_comments'] for d in data]\n",
    "feat = feature(review_length, n_comments)"
   ]
  },
  {
   "cell_type": "code",
   "execution_count": 71,
   "metadata": {},
   "outputs": [],
   "source": [
    "theta,residuals,rank,s = np.linalg.lstsq(feat, rate, rcond=None)"
   ]
  },
  {
   "cell_type": "code",
   "execution_count": 72,
   "metadata": {},
   "outputs": [
    {
     "data": {
      "text/plain": [
       "array([ 3.68916737e+00,  7.58407490e-05, -3.27928935e-02])"
      ]
     },
     "execution_count": 72,
     "metadata": {},
     "output_type": "execute_result"
    }
   ],
   "source": [
    "theta"
   ]
  },
  {
   "cell_type": "code",
   "execution_count": 73,
   "metadata": {},
   "outputs": [],
   "source": [
    "predict = [theta[0] + theta[1]*review_length[i] + theta[2]*n_comments[i] for i in range(len(review_length))] #predict all ratings"
   ]
  },
  {
   "cell_type": "code",
   "execution_count": 74,
   "metadata": {},
   "outputs": [
    {
     "data": {
      "text/plain": [
       "1.5498351692774583"
      ]
     },
     "execution_count": 74,
     "metadata": {},
     "output_type": "execute_result"
    }
   ],
   "source": [
    "mean_squared_error(rate, predict)"
   ]
  },
  {
   "cell_type": "markdown",
   "metadata": {},
   "source": [
    "$$\\theta_0 = 0.689$$ $$\\theta_1 = 7.584 \\times 10^{-5}$$ $$\\theta_2 = -3.278 \\times 10^{-2}$$ $$MSE = 1.55$$"
   ]
  },
  {
   "cell_type": "markdown",
   "metadata": {},
   "source": [
    "The coefficient $\\theta_1$ increases because when we add a new feature to train the model, the model tells us that the review lengths are highly effect the prediction of a positive rate."
   ]
  },
  {
   "cell_type": "markdown",
   "metadata": {},
   "source": [
    "4. Train a model that fits a polynomial function to estimate ratings based on review length."
   ]
  },
  {
   "cell_type": "code",
   "execution_count": 75,
   "metadata": {},
   "outputs": [],
   "source": [
    "#normalize length data\n",
    "max_length = max(review_length)\n",
    "norm_length = [d / max_length for d in review_length]"
   ]
  },
  {
   "cell_type": "code",
   "execution_count": 76,
   "metadata": {},
   "outputs": [],
   "source": [
    "def feature(datum):\n",
    "    feat = [[1, datum[i], datum[i]**2, datum[i]**3, datum[i]**4, datum[i]**5] for i in range(len(datum))]\n",
    "    return feat\n",
    "feat = feature(norm_length)"
   ]
  },
  {
   "cell_type": "code",
   "execution_count": 77,
   "metadata": {},
   "outputs": [],
   "source": [
    "theta,residuals,rank,s = np.linalg.lstsq(feat, rate, rcond=None)"
   ]
  },
  {
   "cell_type": "code",
   "execution_count": 78,
   "metadata": {},
   "outputs": [
    {
     "data": {
      "text/plain": [
       "array([  3.6441158 ,   2.47396326,  -5.65441081,   5.55309592,\n",
       "       -15.94637484,  14.68100179])"
      ]
     },
     "execution_count": 78,
     "metadata": {},
     "output_type": "execute_result"
    }
   ],
   "source": [
    "theta"
   ]
  },
  {
   "cell_type": "code",
   "execution_count": 79,
   "metadata": {},
   "outputs": [],
   "source": [
    "predict = [theta[0] + theta[1]*norm_length[i] + theta[2]*norm_length[i] + theta[3]*norm_length[i] + theta[4]*norm_length[i] + theta[5]*norm_length[i] for i in range(len(norm_length))] #predict all ratings\n",
    "\n"
   ]
  },
  {
   "cell_type": "code",
   "execution_count": 80,
   "metadata": {},
   "outputs": [
    {
     "data": {
      "text/plain": [
       "1.5534917955418688"
      ]
     },
     "execution_count": 80,
     "metadata": {},
     "output_type": "execute_result"
    }
   ],
   "source": [
    "mean_squared_error(rate, predict)"
   ]
  },
  {
   "cell_type": "markdown",
   "metadata": {},
   "source": [
    "$$MSE = 1.5534$$"
   ]
  },
  {
   "cell_type": "markdown",
   "metadata": {},
   "source": [
    "5. Repeat the above question, but this time split the data into a training and test set. You should split the data randomly into 50%/50% train/test fractions. Report the MSE of each model separately on the training and test set"
   ]
  },
  {
   "cell_type": "code",
   "execution_count": 81,
   "metadata": {},
   "outputs": [
    {
     "name": "stdout",
     "output_type": "stream",
     "text": [
      "MSE for Q2 model on training set: 1.492944377477189\n",
      "MSE for Q2 model on testing set: 1.6098110077863164\n"
     ]
    }
   ],
   "source": [
    "#for Q2 model\n",
    "random.shuffle(data)\n",
    "X_train, X_test, y_train, y_test = train_test_split(review_length, rate, test_size = 0.5, random_state=42)\n",
    "def feature(datum):\n",
    "    feat = [[1, d] for d in datum]\n",
    "    return feat\n",
    "feat = feature(X_train)\n",
    "theta,residuals,rank,s = np.linalg.lstsq(feat, y_train, rcond=None)\n",
    "predict = [theta[0] + theta[1]*X_train[i] for i in range(len(X_train))] #predict all ratings\n",
    "print ('MSE for Q2 model on training set:', mean_squared_error(y_train, predict))\n",
    "\n",
    "feat = feature(X_test)\n",
    "theta,residuals,rank,s = np.linalg.lstsq(feat, y_test, rcond=None)\n",
    "predict = [theta[0] + theta[1]*X_test[i] for i in range(len(X_test))] #predict all ratings\n",
    "print ('MSE for Q2 model on testing set:', mean_squared_error(y_test, predict))"
   ]
  },
  {
   "cell_type": "code",
   "execution_count": 82,
   "metadata": {},
   "outputs": [
    {
     "name": "stdout",
     "output_type": "stream",
     "text": [
      "MSE for Q3 model on training set: 1.4916324183335332\n",
      "MSE for Q3 model on testing set: 1.6057525845166616\n"
     ]
    }
   ],
   "source": [
    "#for Q3 model\n",
    "X_train, X_test, y_train, y_test, z_train, z_test = train_test_split(review_length, rate, n_comments, test_size = 0.5, random_state=42)\n",
    "def feature(datum1, datum2):\n",
    "    feat = [[1, d1] for d1 in datum1]\n",
    "    for i in range(len(datum2)):\n",
    "        feat[i].append(datum2[i])\n",
    "    return feat\n",
    "feat = feature(X_train, z_train)\n",
    "theta,residuals,rank,s = np.linalg.lstsq(feat, y_train, rcond=None)\n",
    "predict = [theta[0] + theta[1]*X_train[i] + theta[2]*z_train[i] for i in range(len(X_train))] #predict all ratings\n",
    "print ('MSE for Q3 model on training set:', mean_squared_error(y_train, predict))\n",
    "\n",
    "feat = feature(X_test, z_test)\n",
    "theta,residuals,rank,s = np.linalg.lstsq(feat, y_test, rcond=None)\n",
    "predict = [theta[0] + theta[1]*X_test[i] + theta[2]*z_test[i] for i in range(len(X_test))] #predict all ratings\n",
    "print ('MSE for Q3 model on testing set:', mean_squared_error(y_test, predict))\n",
    "\n"
   ]
  },
  {
   "cell_type": "code",
   "execution_count": 83,
   "metadata": {},
   "outputs": [
    {
     "name": "stdout",
     "output_type": "stream",
     "text": [
      "MSE for Q4 model on training set: 1.4931412388987402\n",
      "MSE for Q4 model on testing set: 1.6189028024399472\n"
     ]
    }
   ],
   "source": [
    "#for Q4 model\n",
    "X_train, X_test, y_train, y_test = train_test_split(review_length, rate, test_size = 0.5, random_state=42)\n",
    "\n",
    "\n",
    "#normalize length data\n",
    "max_length = max(X_train)\n",
    "norm_length = [d / max_length for d in X_train]\n",
    "\n",
    "def feature(datum):\n",
    "    feat = [[1, datum[i], datum[i]**2, datum[i]**3, datum[i]**4, datum[i]**5] for i in range(len(datum))]\n",
    "    return feat\n",
    "feat = feature(norm_length)\n",
    "theta,residuals,rank,s = np.linalg.lstsq(feat, y_test, rcond=None)\n",
    "predict = [theta[0] + theta[1]*norm_length[i] + theta[2]*norm_length[i] + theta[3]*norm_length[i] + theta[4]*norm_length[i] + theta[5]*norm_length[i] for i in range(len(norm_length))] #predict all ratings\n",
    "print('MSE for Q4 model on training set:', mean_squared_error(y_train, predict))\n",
    "\n",
    "\n",
    "#normalize length data\n",
    "max_length = max(X_test)\n",
    "norm_length = [d / max_length for d in X_train]\n",
    "\n",
    "def feature(datum):\n",
    "    feat = [[1, datum[i], datum[i]**2, datum[i]**3, datum[i]**4, datum[i]**5] for i in range(len(datum))]\n",
    "    return feat\n",
    "feat = feature(norm_length)\n",
    "theta,residuals,rank,s = np.linalg.lstsq(feat, y_test, rcond=None)\n",
    "predict = [theta[0] + theta[1]*norm_length[i] + theta[2]*norm_length[i] + theta[3]*norm_length[i] + theta[4]*norm_length[i] + theta[5]*norm_length[i] for i in range(len(norm_length))] #predict all ratings\n",
    "print('MSE for Q4 model on testing set:', mean_squared_error(y_test, predict))"
   ]
  },
  {
   "cell_type": "code",
   "execution_count": null,
   "metadata": {},
   "outputs": [],
   "source": []
  },
  {
   "cell_type": "code",
   "execution_count": null,
   "metadata": {},
   "outputs": [],
   "source": []
  }
 ],
 "metadata": {
  "kernelspec": {
   "display_name": "Python 3",
   "language": "python",
   "name": "python3"
  },
  "language_info": {
   "codemirror_mode": {
    "name": "ipython",
    "version": 3
   },
   "file_extension": ".py",
   "mimetype": "text/x-python",
   "name": "python",
   "nbconvert_exporter": "python",
   "pygments_lexer": "ipython3",
   "version": "3.8.3"
  }
 },
 "nbformat": 4,
 "nbformat_minor": 4
}
